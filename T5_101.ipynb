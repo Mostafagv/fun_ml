{
 "cells": [
  {
   "cell_type": "markdown",
   "id": "f854d0d0",
   "metadata": {},
   "source": [
    "# Exploring T5"
   ]
  },
  {
   "cell_type": "code",
   "execution_count": 1,
   "id": "c36a1fad",
   "metadata": {},
   "outputs": [],
   "source": [
    "from transformers import T5Tokenizer, T5ForConditionalGeneration, AutoTokenizer"
   ]
  },
  {
   "cell_type": "code",
   "execution_count": 2,
   "id": "14d8e622",
   "metadata": {},
   "outputs": [
    {
     "data": {
      "application/vnd.jupyter.widget-view+json": {
       "model_id": "",
       "version_major": 2,
       "version_minor": 0
      },
      "text/plain": [
       "Downloading (…)okenizer_config.json:   0%|          | 0.00/2.32k [00:00<?, ?B/s]"
      ]
     },
     "metadata": {},
     "output_type": "display_data"
    }
   ],
   "source": [
    "tokenizer = T5Tokenizer.from_pretrained(\"t5-small\")\n",
    "model = T5ForConditionalGeneration.from_pretrained(\"t5-small\")"
   ]
  },
  {
   "cell_type": "markdown",
   "id": "7abd7377",
   "metadata": {},
   "source": [
    "## Exploring Tokenizer"
   ]
  },
  {
   "cell_type": "code",
   "execution_count": 3,
   "id": "93428382",
   "metadata": {},
   "outputs": [],
   "source": [
    "input_ids = tokenizer(\"translate English to German: The house is wonderful.\", return_tensors=\"pt\").input_ids"
   ]
  },
  {
   "cell_type": "code",
   "execution_count": 4,
   "id": "102887e1",
   "metadata": {},
   "outputs": [
    {
     "data": {
      "text/plain": [
       "tensor([[13959,  1566,    12,  2968,    10,    37,   629,    19,  1627,     5,\n",
       "             1]])"
      ]
     },
     "execution_count": 4,
     "metadata": {},
     "output_type": "execute_result"
    }
   ],
   "source": [
    "input_ids"
   ]
  },
  {
   "cell_type": "code",
   "execution_count": 5,
   "id": "b72e5c3c",
   "metadata": {},
   "outputs": [
    {
     "data": {
      "text/plain": [
       "torch.Tensor"
      ]
     },
     "execution_count": 5,
     "metadata": {},
     "output_type": "execute_result"
    }
   ],
   "source": [
    "type(input_ids)"
   ]
  },
  {
   "cell_type": "code",
   "execution_count": 6,
   "id": "a09a2fbf",
   "metadata": {},
   "outputs": [
    {
     "data": {
      "text/plain": [
       "['▁translate',\n",
       " '▁English',\n",
       " '▁to',\n",
       " '▁German',\n",
       " ':',\n",
       " '▁The',\n",
       " '▁house',\n",
       " '▁is',\n",
       " '▁wonderful',\n",
       " '.',\n",
       " '</s>']"
      ]
     },
     "execution_count": 6,
     "metadata": {},
     "output_type": "execute_result"
    }
   ],
   "source": [
    "tokenizer.convert_ids_to_tokens(input_ids[0])"
   ]
  },
  {
   "cell_type": "code",
   "execution_count": 7,
   "id": "a5d47b79",
   "metadata": {},
   "outputs": [
    {
     "data": {
      "text/plain": [
       "['<pad>', '</s>', '<unk>', '▁']"
      ]
     },
     "execution_count": 7,
     "metadata": {},
     "output_type": "execute_result"
    }
   ],
   "source": [
    "tokenizer.convert_ids_to_tokens([i for i in range(4)])"
   ]
  },
  {
   "cell_type": "code",
   "execution_count": 8,
   "id": "989b78ef",
   "metadata": {},
   "outputs": [
    {
     "name": "stdout",
     "output_type": "stream",
     "text": [
      "translate\n",
      "English\n",
      "to\n",
      "German\n",
      ":\n",
      "The\n",
      "house\n",
      "is\n",
      "wonderful\n",
      ".\n",
      "</s>\n"
     ]
    }
   ],
   "source": [
    "for i in input_ids[0]:\n",
    "    print(tokenizer.decode(i))"
   ]
  },
  {
   "cell_type": "code",
   "execution_count": 9,
   "id": "010f242a",
   "metadata": {},
   "outputs": [
    {
     "data": {
      "text/plain": [
       "'translate English to German: The house is wonderful.</s>'"
      ]
     },
     "execution_count": 9,
     "metadata": {},
     "output_type": "execute_result"
    }
   ],
   "source": [
    "tokenizer.decode(token_ids = input_ids[0])"
   ]
  },
  {
   "cell_type": "code",
   "execution_count": 10,
   "id": "8d539368",
   "metadata": {},
   "outputs": [
    {
     "data": {
      "text/plain": [
       "['▁translate',\n",
       " '▁English',\n",
       " '▁to',\n",
       " '▁German',\n",
       " ':',\n",
       " '▁I',\n",
       " '▁am',\n",
       " '▁working',\n",
       " '▁on',\n",
       " '▁my',\n",
       " '▁machine',\n",
       " '▁learning',\n",
       " '▁skills',\n",
       " '.',\n",
       " '</s>']"
      ]
     },
     "execution_count": 10,
     "metadata": {},
     "output_type": "execute_result"
    }
   ],
   "source": [
    "input_ids = tokenizer(\"translate English to German: I am working on my machine learning skills.\", \n",
    "                      return_tensors=\"pt\").input_ids\n",
    "\n",
    "tokenizer.convert_ids_to_tokens(input_ids[0])"
   ]
  },
  {
   "cell_type": "markdown",
   "id": "f0544fa9",
   "metadata": {},
   "source": [
    "## Encode Decoder"
   ]
  },
  {
   "cell_type": "code",
   "execution_count": 12,
   "id": "df4abb57",
   "metadata": {},
   "outputs": [
    {
     "data": {
      "text/plain": [
       "tensor([[    0,  1674,     3,  5269,    15,    46,     3, 12289, 22622,  9588,\n",
       "         22416,     7,    35,     5,     1]])"
      ]
     },
     "execution_count": 12,
     "metadata": {},
     "output_type": "execute_result"
    }
   ],
   "source": [
    "outputs = model.generate(input_ids)\n",
    "outputs"
   ]
  },
  {
   "cell_type": "code",
   "execution_count": 19,
   "id": "9286c5ce",
   "metadata": {},
   "outputs": [
    {
     "data": {
      "text/plain": [
       "T5Stack(\n",
       "  (embed_tokens): Embedding(32128, 512)\n",
       "  (block): ModuleList(\n",
       "    (0): T5Block(\n",
       "      (layer): ModuleList(\n",
       "        (0): T5LayerSelfAttention(\n",
       "          (SelfAttention): T5Attention(\n",
       "            (q): Linear(in_features=512, out_features=512, bias=False)\n",
       "            (k): Linear(in_features=512, out_features=512, bias=False)\n",
       "            (v): Linear(in_features=512, out_features=512, bias=False)\n",
       "            (o): Linear(in_features=512, out_features=512, bias=False)\n",
       "            (relative_attention_bias): Embedding(32, 8)\n",
       "          )\n",
       "          (layer_norm): T5LayerNorm()\n",
       "          (dropout): Dropout(p=0.1, inplace=False)\n",
       "        )\n",
       "        (1): T5LayerFF(\n",
       "          (DenseReluDense): T5DenseActDense(\n",
       "            (wi): Linear(in_features=512, out_features=2048, bias=False)\n",
       "            (wo): Linear(in_features=2048, out_features=512, bias=False)\n",
       "            (dropout): Dropout(p=0.1, inplace=False)\n",
       "            (act): ReLU()\n",
       "          )\n",
       "          (layer_norm): T5LayerNorm()\n",
       "          (dropout): Dropout(p=0.1, inplace=False)\n",
       "        )\n",
       "      )\n",
       "    )\n",
       "    (1-5): 5 x T5Block(\n",
       "      (layer): ModuleList(\n",
       "        (0): T5LayerSelfAttention(\n",
       "          (SelfAttention): T5Attention(\n",
       "            (q): Linear(in_features=512, out_features=512, bias=False)\n",
       "            (k): Linear(in_features=512, out_features=512, bias=False)\n",
       "            (v): Linear(in_features=512, out_features=512, bias=False)\n",
       "            (o): Linear(in_features=512, out_features=512, bias=False)\n",
       "          )\n",
       "          (layer_norm): T5LayerNorm()\n",
       "          (dropout): Dropout(p=0.1, inplace=False)\n",
       "        )\n",
       "        (1): T5LayerFF(\n",
       "          (DenseReluDense): T5DenseActDense(\n",
       "            (wi): Linear(in_features=512, out_features=2048, bias=False)\n",
       "            (wo): Linear(in_features=2048, out_features=512, bias=False)\n",
       "            (dropout): Dropout(p=0.1, inplace=False)\n",
       "            (act): ReLU()\n",
       "          )\n",
       "          (layer_norm): T5LayerNorm()\n",
       "          (dropout): Dropout(p=0.1, inplace=False)\n",
       "        )\n",
       "      )\n",
       "    )\n",
       "  )\n",
       "  (final_layer_norm): T5LayerNorm()\n",
       "  (dropout): Dropout(p=0.1, inplace=False)\n",
       ")"
      ]
     },
     "execution_count": 19,
     "metadata": {},
     "output_type": "execute_result"
    }
   ],
   "source": [
    "model.encoder"
   ]
  },
  {
   "cell_type": "code",
   "execution_count": 28,
   "id": "591d90ea",
   "metadata": {},
   "outputs": [
    {
     "data": {
      "text/plain": [
       "T5Stack(\n",
       "  (embed_tokens): Embedding(32128, 512)\n",
       "  (block): ModuleList(\n",
       "    (0): T5Block(\n",
       "      (layer): ModuleList(\n",
       "        (0): T5LayerSelfAttention(\n",
       "          (SelfAttention): T5Attention(\n",
       "            (q): Linear(in_features=512, out_features=512, bias=False)\n",
       "            (k): Linear(in_features=512, out_features=512, bias=False)\n",
       "            (v): Linear(in_features=512, out_features=512, bias=False)\n",
       "            (o): Linear(in_features=512, out_features=512, bias=False)\n",
       "            (relative_attention_bias): Embedding(32, 8)\n",
       "          )\n",
       "          (layer_norm): T5LayerNorm()\n",
       "          (dropout): Dropout(p=0.1, inplace=False)\n",
       "        )\n",
       "        (1): T5LayerCrossAttention(\n",
       "          (EncDecAttention): T5Attention(\n",
       "            (q): Linear(in_features=512, out_features=512, bias=False)\n",
       "            (k): Linear(in_features=512, out_features=512, bias=False)\n",
       "            (v): Linear(in_features=512, out_features=512, bias=False)\n",
       "            (o): Linear(in_features=512, out_features=512, bias=False)\n",
       "          )\n",
       "          (layer_norm): T5LayerNorm()\n",
       "          (dropout): Dropout(p=0.1, inplace=False)\n",
       "        )\n",
       "        (2): T5LayerFF(\n",
       "          (DenseReluDense): T5DenseActDense(\n",
       "            (wi): Linear(in_features=512, out_features=2048, bias=False)\n",
       "            (wo): Linear(in_features=2048, out_features=512, bias=False)\n",
       "            (dropout): Dropout(p=0.1, inplace=False)\n",
       "            (act): ReLU()\n",
       "          )\n",
       "          (layer_norm): T5LayerNorm()\n",
       "          (dropout): Dropout(p=0.1, inplace=False)\n",
       "        )\n",
       "      )\n",
       "    )\n",
       "    (1-5): 5 x T5Block(\n",
       "      (layer): ModuleList(\n",
       "        (0): T5LayerSelfAttention(\n",
       "          (SelfAttention): T5Attention(\n",
       "            (q): Linear(in_features=512, out_features=512, bias=False)\n",
       "            (k): Linear(in_features=512, out_features=512, bias=False)\n",
       "            (v): Linear(in_features=512, out_features=512, bias=False)\n",
       "            (o): Linear(in_features=512, out_features=512, bias=False)\n",
       "          )\n",
       "          (layer_norm): T5LayerNorm()\n",
       "          (dropout): Dropout(p=0.1, inplace=False)\n",
       "        )\n",
       "        (1): T5LayerCrossAttention(\n",
       "          (EncDecAttention): T5Attention(\n",
       "            (q): Linear(in_features=512, out_features=512, bias=False)\n",
       "            (k): Linear(in_features=512, out_features=512, bias=False)\n",
       "            (v): Linear(in_features=512, out_features=512, bias=False)\n",
       "            (o): Linear(in_features=512, out_features=512, bias=False)\n",
       "          )\n",
       "          (layer_norm): T5LayerNorm()\n",
       "          (dropout): Dropout(p=0.1, inplace=False)\n",
       "        )\n",
       "        (2): T5LayerFF(\n",
       "          (DenseReluDense): T5DenseActDense(\n",
       "            (wi): Linear(in_features=512, out_features=2048, bias=False)\n",
       "            (wo): Linear(in_features=2048, out_features=512, bias=False)\n",
       "            (dropout): Dropout(p=0.1, inplace=False)\n",
       "            (act): ReLU()\n",
       "          )\n",
       "          (layer_norm): T5LayerNorm()\n",
       "          (dropout): Dropout(p=0.1, inplace=False)\n",
       "        )\n",
       "      )\n",
       "    )\n",
       "  )\n",
       "  (final_layer_norm): T5LayerNorm()\n",
       "  (dropout): Dropout(p=0.1, inplace=False)\n",
       ")"
      ]
     },
     "execution_count": 28,
     "metadata": {},
     "output_type": "execute_result"
    }
   ],
   "source": [
    "model.decoder"
   ]
  },
  {
   "cell_type": "code",
   "execution_count": 29,
   "id": "7dc297af",
   "metadata": {},
   "outputs": [
    {
     "data": {
      "text/plain": [
       "BaseModelOutputWithPastAndCrossAttentions(last_hidden_state=tensor([[[ 0.0184,  0.1329,  0.0284,  ..., -0.0143,  0.0362,  0.0983],\n",
       "         [ 0.0560, -0.0842, -0.0689,  ...,  0.0856,  0.0203,  0.0782],\n",
       "         [ 0.0104, -0.0200,  0.0024,  ...,  0.0013, -0.0042, -0.0387],\n",
       "         ...,\n",
       "         [ 0.1203, -0.0776, -0.2231,  ...,  0.0585, -0.0211, -0.1241],\n",
       "         [-0.0280, -0.0638,  0.0094,  ...,  0.1404, -0.1971, -0.0281],\n",
       "         [ 0.0989,  0.0318, -0.0382,  ..., -0.0037, -0.0696,  0.0254]]],\n",
       "       grad_fn=<MulBackward0>), past_key_values=None, hidden_states=None, attentions=None, cross_attentions=None)"
      ]
     },
     "execution_count": 29,
     "metadata": {},
     "output_type": "execute_result"
    }
   ],
   "source": [
    "encoder_output = model.encoder(input_ids)\n",
    "encoder_output"
   ]
  },
  {
   "cell_type": "code",
   "execution_count": 37,
   "id": "739125b5",
   "metadata": {},
   "outputs": [
    {
     "data": {
      "text/plain": [
       "{'last_hidden_state': tensor([[[ 0.0184,  0.1329,  0.0284,  ..., -0.0143,  0.0362,  0.0983],\n",
       "          [ 0.0560, -0.0842, -0.0689,  ...,  0.0856,  0.0203,  0.0782],\n",
       "          [ 0.0104, -0.0200,  0.0024,  ...,  0.0013, -0.0042, -0.0387],\n",
       "          ...,\n",
       "          [ 0.1203, -0.0776, -0.2231,  ...,  0.0585, -0.0211, -0.1241],\n",
       "          [-0.0280, -0.0638,  0.0094,  ...,  0.1404, -0.1971, -0.0281],\n",
       "          [ 0.0989,  0.0318, -0.0382,  ..., -0.0037, -0.0696,  0.0254]]],\n",
       "        grad_fn=<MulBackward0>),\n",
       " 'past_key_values': None,\n",
       " 'hidden_states': None,\n",
       " 'attentions': None,\n",
       " 'cross_attentions': None}"
      ]
     },
     "execution_count": 37,
     "metadata": {},
     "output_type": "execute_result"
    }
   ],
   "source": [
    "encoder_output.__dict__"
   ]
  },
  {
   "cell_type": "markdown",
   "id": "c39b9871",
   "metadata": {},
   "source": [
    "## Explore Prefixes"
   ]
  },
  {
   "cell_type": "markdown",
   "id": "79d2b25d",
   "metadata": {},
   "source": [
    "### ColA"
   ]
  },
  {
   "cell_type": "code",
   "execution_count": 74,
   "id": "7b990ece",
   "metadata": {},
   "outputs": [
    {
     "data": {
      "text/plain": [
       "'acceptable'"
      ]
     },
     "execution_count": 74,
     "metadata": {},
     "output_type": "execute_result"
    }
   ],
   "source": [
    "input_info = \"cola sentence: John made Bill master of himself.\"\n",
    "input_ids = tokenizer(input_info, return_tensors=\"pt\").input_ids\n",
    "output_ids = model.generate(input_ids)\n",
    "raw_output = tokenizer.decode(output_ids[0])\n",
    "output = tokenizer.decode(output_ids[0], skip_special_tokens=True)\n",
    "output"
   ]
  },
  {
   "cell_type": "code",
   "execution_count": 79,
   "id": "282d5a28",
   "metadata": {},
   "outputs": [
    {
     "data": {
      "text/plain": [
       "'acceptable'"
      ]
     },
     "execution_count": 79,
     "metadata": {},
     "output_type": "execute_result"
    }
   ],
   "source": [
    "input_info = \"cola sentence: nwlqwne.\"\n",
    "input_ids = tokenizer(input_info, return_tensors=\"pt\").input_ids\n",
    "output_ids = model.generate(input_ids)\n",
    "raw_output = tokenizer.decode(output_ids[0])\n",
    "output = tokenizer.decode(output_ids[0], skip_special_tokens=True)\n",
    "output"
   ]
  },
  {
   "cell_type": "markdown",
   "id": "7a19e4a7",
   "metadata": {},
   "source": [
    "### RTE"
   ]
  },
  {
   "cell_type": "code",
   "execution_count": 80,
   "id": "e51e261d",
   "metadata": {},
   "outputs": [
    {
     "data": {
      "text/plain": [
       "'not_entailment'"
      ]
     },
     "execution_count": 80,
     "metadata": {},
     "output_type": "execute_result"
    }
   ],
   "source": [
    "input_info = \"rte sentence1: A smaller proportion of Yugoslavia’s Italians were settled in Slovenia (at the 1991 national census, some 3000 inhabitants of Slovenia declared themselves as ethnic Italians). sentence2: Slovenia has 3,000 inhabitants.\"\n",
    "input_ids = tokenizer(input_info, return_tensors=\"pt\").input_ids\n",
    "output_ids = model.generate(input_ids)\n",
    "raw_output = tokenizer.decode(output_ids[0])\n",
    "output = tokenizer.decode(output_ids[0], skip_special_tokens=True)\n",
    "output"
   ]
  },
  {
   "cell_type": "code",
   "execution_count": null,
   "id": "73a70796",
   "metadata": {},
   "outputs": [],
   "source": []
  }
 ],
 "metadata": {
  "kernelspec": {
   "display_name": "Python 3 (ipykernel)",
   "language": "python",
   "name": "python3"
  },
  "language_info": {
   "codemirror_mode": {
    "name": "ipython",
    "version": 3
   },
   "file_extension": ".py",
   "mimetype": "text/x-python",
   "name": "python",
   "nbconvert_exporter": "python",
   "pygments_lexer": "ipython3",
   "version": "3.8.16"
  }
 },
 "nbformat": 4,
 "nbformat_minor": 5
}
